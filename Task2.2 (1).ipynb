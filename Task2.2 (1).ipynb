{
 "cells": [
  {
   "cell_type": "code",
   "execution_count": 1,
   "id": "6de69415",
   "metadata": {},
   "outputs": [],
   "source": [
    "import pandas as pd"
   ]
  },
  {
   "cell_type": "code",
   "execution_count": 2,
   "id": "0ff2877c",
   "metadata": {},
   "outputs": [],
   "source": [
    "f1=pd.read_excel(r\"C:\\Users\\priya\\OneDrive\\Desktop\\Intern\\test_task2.2.xlsx\")"
   ]
  },
  {
   "cell_type": "code",
   "execution_count": 3,
   "id": "17cd51a3",
   "metadata": {},
   "outputs": [
    {
     "data": {
      "text/html": [
       "<div>\n",
       "<style scoped>\n",
       "    .dataframe tbody tr th:only-of-type {\n",
       "        vertical-align: middle;\n",
       "    }\n",
       "\n",
       "    .dataframe tbody tr th {\n",
       "        vertical-align: top;\n",
       "    }\n",
       "\n",
       "    .dataframe thead th {\n",
       "        text-align: right;\n",
       "    }\n",
       "</style>\n",
       "<table border=\"1\" class=\"dataframe\">\n",
       "  <thead>\n",
       "    <tr style=\"text-align: right;\">\n",
       "      <th></th>\n",
       "      <th>Specialty</th>\n",
       "      <th>IMC</th>\n",
       "      <th>Misc</th>\n",
       "    </tr>\n",
       "  </thead>\n",
       "  <tbody>\n",
       "    <tr>\n",
       "      <th>0</th>\n",
       "      <td>General Registration</td>\n",
       "      <td>406262</td>\n",
       "      <td>GP Reg</td>\n",
       "    </tr>\n",
       "    <tr>\n",
       "      <th>1</th>\n",
       "      <td>General Registration</td>\n",
       "      <td>406262</td>\n",
       "      <td>GP Reg</td>\n",
       "    </tr>\n",
       "    <tr>\n",
       "      <th>2</th>\n",
       "      <td>General Registration</td>\n",
       "      <td>357302</td>\n",
       "      <td>NaN</td>\n",
       "    </tr>\n",
       "    <tr>\n",
       "      <th>3</th>\n",
       "      <td>General Registration</td>\n",
       "      <td>21569</td>\n",
       "      <td>NaN</td>\n",
       "    </tr>\n",
       "    <tr>\n",
       "      <th>4</th>\n",
       "      <td>General Registration</td>\n",
       "      <td>336686</td>\n",
       "      <td>NaN</td>\n",
       "    </tr>\n",
       "  </tbody>\n",
       "</table>\n",
       "</div>"
      ],
      "text/plain": [
       "               Specialty     IMC    Misc\n",
       "0   General Registration  406262  GP Reg\n",
       "1   General Registration  406262  GP Reg\n",
       "2   General Registration  357302     NaN\n",
       "3   General Registration   21569     NaN\n",
       "4   General Registration  336686     NaN"
      ]
     },
     "execution_count": 3,
     "metadata": {},
     "output_type": "execute_result"
    }
   ],
   "source": [
    "f1.head()"
   ]
  },
  {
   "cell_type": "code",
   "execution_count": 4,
   "id": "12a8653b",
   "metadata": {},
   "outputs": [],
   "source": [
    "f1.drop_duplicates(subset =\"IMC\",\n",
    "                     keep = \"first\", inplace = True)"
   ]
  },
  {
   "cell_type": "code",
   "execution_count": 5,
   "id": "b612cfd7",
   "metadata": {
    "scrolled": true
   },
   "outputs": [
    {
     "data": {
      "text/html": [
       "<div>\n",
       "<style scoped>\n",
       "    .dataframe tbody tr th:only-of-type {\n",
       "        vertical-align: middle;\n",
       "    }\n",
       "\n",
       "    .dataframe tbody tr th {\n",
       "        vertical-align: top;\n",
       "    }\n",
       "\n",
       "    .dataframe thead th {\n",
       "        text-align: right;\n",
       "    }\n",
       "</style>\n",
       "<table border=\"1\" class=\"dataframe\">\n",
       "  <thead>\n",
       "    <tr style=\"text-align: right;\">\n",
       "      <th></th>\n",
       "      <th>Specialty</th>\n",
       "      <th>IMC</th>\n",
       "      <th>Misc</th>\n",
       "    </tr>\n",
       "  </thead>\n",
       "  <tbody>\n",
       "    <tr>\n",
       "      <th>0</th>\n",
       "      <td>General Registration</td>\n",
       "      <td>406262</td>\n",
       "      <td>GP Reg</td>\n",
       "    </tr>\n",
       "    <tr>\n",
       "      <th>2</th>\n",
       "      <td>General Registration</td>\n",
       "      <td>357302</td>\n",
       "      <td>NaN</td>\n",
       "    </tr>\n",
       "    <tr>\n",
       "      <th>3</th>\n",
       "      <td>General Registration</td>\n",
       "      <td>21569</td>\n",
       "      <td>NaN</td>\n",
       "    </tr>\n",
       "    <tr>\n",
       "      <th>4</th>\n",
       "      <td>General Registration</td>\n",
       "      <td>336686</td>\n",
       "      <td>NaN</td>\n",
       "    </tr>\n",
       "    <tr>\n",
       "      <th>5</th>\n",
       "      <td>General Registration</td>\n",
       "      <td>13196</td>\n",
       "      <td>NaN</td>\n",
       "    </tr>\n",
       "  </tbody>\n",
       "</table>\n",
       "</div>"
      ],
      "text/plain": [
       "               Specialty     IMC    Misc\n",
       "0   General Registration  406262  GP Reg\n",
       "2   General Registration  357302     NaN\n",
       "3   General Registration   21569     NaN\n",
       "4   General Registration  336686     NaN\n",
       "5   General Registration   13196     NaN"
      ]
     },
     "execution_count": 5,
     "metadata": {},
     "output_type": "execute_result"
    }
   ],
   "source": [
    "f1.head()"
   ]
  },
  {
   "cell_type": "code",
   "execution_count": 6,
   "id": "a50f434a",
   "metadata": {},
   "outputs": [],
   "source": [
    "f1['Misc'] = f1['Misc'].fillna(0)"
   ]
  },
  {
   "cell_type": "code",
   "execution_count": 7,
   "id": "c8aeac35",
   "metadata": {},
   "outputs": [
    {
     "data": {
      "text/html": [
       "<div>\n",
       "<style scoped>\n",
       "    .dataframe tbody tr th:only-of-type {\n",
       "        vertical-align: middle;\n",
       "    }\n",
       "\n",
       "    .dataframe tbody tr th {\n",
       "        vertical-align: top;\n",
       "    }\n",
       "\n",
       "    .dataframe thead th {\n",
       "        text-align: right;\n",
       "    }\n",
       "</style>\n",
       "<table border=\"1\" class=\"dataframe\">\n",
       "  <thead>\n",
       "    <tr style=\"text-align: right;\">\n",
       "      <th></th>\n",
       "      <th>Specialty</th>\n",
       "      <th>IMC</th>\n",
       "      <th>Misc</th>\n",
       "    </tr>\n",
       "  </thead>\n",
       "  <tbody>\n",
       "    <tr>\n",
       "      <th>0</th>\n",
       "      <td>General Registration</td>\n",
       "      <td>406262</td>\n",
       "      <td>GP Reg</td>\n",
       "    </tr>\n",
       "    <tr>\n",
       "      <th>2</th>\n",
       "      <td>General Registration</td>\n",
       "      <td>357302</td>\n",
       "      <td>0</td>\n",
       "    </tr>\n",
       "    <tr>\n",
       "      <th>3</th>\n",
       "      <td>General Registration</td>\n",
       "      <td>21569</td>\n",
       "      <td>0</td>\n",
       "    </tr>\n",
       "    <tr>\n",
       "      <th>4</th>\n",
       "      <td>General Registration</td>\n",
       "      <td>336686</td>\n",
       "      <td>0</td>\n",
       "    </tr>\n",
       "    <tr>\n",
       "      <th>5</th>\n",
       "      <td>General Registration</td>\n",
       "      <td>13196</td>\n",
       "      <td>0</td>\n",
       "    </tr>\n",
       "  </tbody>\n",
       "</table>\n",
       "</div>"
      ],
      "text/plain": [
       "               Specialty     IMC    Misc\n",
       "0   General Registration  406262  GP Reg\n",
       "2   General Registration  357302       0\n",
       "3   General Registration   21569       0\n",
       "4   General Registration  336686       0\n",
       "5   General Registration   13196       0"
      ]
     },
     "execution_count": 7,
     "metadata": {},
     "output_type": "execute_result"
    }
   ],
   "source": [
    "f1.head()"
   ]
  },
  {
   "cell_type": "code",
   "execution_count": 8,
   "id": "ae01ffd4",
   "metadata": {},
   "outputs": [],
   "source": [
    "f1 = f1[f1['Misc'] != 'GP Reg']"
   ]
  },
  {
   "cell_type": "code",
   "execution_count": 9,
   "id": "64312912",
   "metadata": {},
   "outputs": [
    {
     "data": {
      "text/html": [
       "<div>\n",
       "<style scoped>\n",
       "    .dataframe tbody tr th:only-of-type {\n",
       "        vertical-align: middle;\n",
       "    }\n",
       "\n",
       "    .dataframe tbody tr th {\n",
       "        vertical-align: top;\n",
       "    }\n",
       "\n",
       "    .dataframe thead th {\n",
       "        text-align: right;\n",
       "    }\n",
       "</style>\n",
       "<table border=\"1\" class=\"dataframe\">\n",
       "  <thead>\n",
       "    <tr style=\"text-align: right;\">\n",
       "      <th></th>\n",
       "      <th>Specialty</th>\n",
       "      <th>IMC</th>\n",
       "      <th>Misc</th>\n",
       "    </tr>\n",
       "  </thead>\n",
       "  <tbody>\n",
       "    <tr>\n",
       "      <th>2</th>\n",
       "      <td>General Registration</td>\n",
       "      <td>357302</td>\n",
       "      <td>0</td>\n",
       "    </tr>\n",
       "    <tr>\n",
       "      <th>3</th>\n",
       "      <td>General Registration</td>\n",
       "      <td>21569</td>\n",
       "      <td>0</td>\n",
       "    </tr>\n",
       "    <tr>\n",
       "      <th>4</th>\n",
       "      <td>General Registration</td>\n",
       "      <td>336686</td>\n",
       "      <td>0</td>\n",
       "    </tr>\n",
       "    <tr>\n",
       "      <th>5</th>\n",
       "      <td>General Registration</td>\n",
       "      <td>13196</td>\n",
       "      <td>0</td>\n",
       "    </tr>\n",
       "    <tr>\n",
       "      <th>6</th>\n",
       "      <td>General Registration</td>\n",
       "      <td>405094</td>\n",
       "      <td>0</td>\n",
       "    </tr>\n",
       "  </tbody>\n",
       "</table>\n",
       "</div>"
      ],
      "text/plain": [
       "               Specialty     IMC Misc\n",
       "2   General Registration  357302    0\n",
       "3   General Registration   21569    0\n",
       "4   General Registration  336686    0\n",
       "5   General Registration   13196    0\n",
       "6   General Registration  405094    0"
      ]
     },
     "execution_count": 9,
     "metadata": {},
     "output_type": "execute_result"
    }
   ],
   "source": [
    "f1.head()"
   ]
  },
  {
   "cell_type": "code",
   "execution_count": 10,
   "id": "5338115c",
   "metadata": {},
   "outputs": [
    {
     "name": "stdout",
     "output_type": "stream",
     "text": [
      "[' General Registration' ' General Registration' ' General Registration'\n",
      " ' General Registration' ' General Registration' ' General Registration'\n",
      " ' General Registration' ' General Registration' ' General Registration'\n",
      " ' General Registration' ' General Registration' ' General Registration'\n",
      " ' General Registration' ' General Registration' ' General Registration'\n",
      " ' General Registration' ' General Registration' ' General Registration'\n",
      " ' General Registration' ' General Registration' 'General Registration'\n",
      " 'General Registration' 'General Registration' 'General Registration'\n",
      " 'General Registration' 'General Registration' 'General Registration'\n",
      " 'General Registration' 'General Registration' 'General Registration'\n",
      " 'General Registration' 'General Registration' 'General Registration'\n",
      " 'General Registration' 'General Registration' 'General Registration'\n",
      " 'General Registration' 'Specialist Registration'\n",
      " 'Specialist Registration' 'Specialist Registration'\n",
      " 'Specialist Registration' 'Specialist Registration'\n",
      " 'Specialist Registration' 'Trainee Specialist Registration'\n",
      " 'Trainee Specialist Registration' 'Trainee Specialist Registration'\n",
      " 'Trainee Specialist Registration' 'Trainee Specialist Registration'\n",
      " 'Trainee Specialist Registration']\n",
      "[357302  21569 336686  13196 405094  58397 418004 400391 417063  22196\n",
      " 412340 110662  16197   5025   9524   3951  14327   7772  13109   3746\n",
      "    829  16203  18494 400463  19044  12401   5156 400219  12203 345475\n",
      " 291053 402332  11615  19345  11284 412771   1509   6184   3949   8948\n",
      "   4702   5106 403451 414652 371484 400731 417934 411522 423717]\n",
      "[0 0 0 0 0 0 0 0 0 0 0 0 0 0 0 0 0 0 0 0 0 0 0 0 0 0 0 0 0 0 0 0 0 0 0 0 0\n",
      " 0 0 0 0 0 0 0 0 0 0 0 0]\n"
     ]
    }
   ],
   "source": [
    "for i in f1:\n",
    "    print(f1[i].values)"
   ]
  },
  {
   "cell_type": "code",
   "execution_count": 11,
   "id": "fcd263bf",
   "metadata": {},
   "outputs": [],
   "source": [
    "f1['Misc']=f1['IMC']"
   ]
  },
  {
   "cell_type": "code",
   "execution_count": 12,
   "id": "c4119ae2",
   "metadata": {},
   "outputs": [
    {
     "data": {
      "text/html": [
       "<div>\n",
       "<style scoped>\n",
       "    .dataframe tbody tr th:only-of-type {\n",
       "        vertical-align: middle;\n",
       "    }\n",
       "\n",
       "    .dataframe tbody tr th {\n",
       "        vertical-align: top;\n",
       "    }\n",
       "\n",
       "    .dataframe thead th {\n",
       "        text-align: right;\n",
       "    }\n",
       "</style>\n",
       "<table border=\"1\" class=\"dataframe\">\n",
       "  <thead>\n",
       "    <tr style=\"text-align: right;\">\n",
       "      <th></th>\n",
       "      <th>Specialty</th>\n",
       "      <th>IMC</th>\n",
       "      <th>Misc</th>\n",
       "    </tr>\n",
       "  </thead>\n",
       "  <tbody>\n",
       "    <tr>\n",
       "      <th>2</th>\n",
       "      <td>General Registration</td>\n",
       "      <td>357302</td>\n",
       "      <td>357302</td>\n",
       "    </tr>\n",
       "    <tr>\n",
       "      <th>3</th>\n",
       "      <td>General Registration</td>\n",
       "      <td>21569</td>\n",
       "      <td>21569</td>\n",
       "    </tr>\n",
       "    <tr>\n",
       "      <th>4</th>\n",
       "      <td>General Registration</td>\n",
       "      <td>336686</td>\n",
       "      <td>336686</td>\n",
       "    </tr>\n",
       "    <tr>\n",
       "      <th>5</th>\n",
       "      <td>General Registration</td>\n",
       "      <td>13196</td>\n",
       "      <td>13196</td>\n",
       "    </tr>\n",
       "    <tr>\n",
       "      <th>6</th>\n",
       "      <td>General Registration</td>\n",
       "      <td>405094</td>\n",
       "      <td>405094</td>\n",
       "    </tr>\n",
       "  </tbody>\n",
       "</table>\n",
       "</div>"
      ],
      "text/plain": [
       "               Specialty     IMC    Misc\n",
       "2   General Registration  357302  357302\n",
       "3   General Registration   21569   21569\n",
       "4   General Registration  336686  336686\n",
       "5   General Registration   13196   13196\n",
       "6   General Registration  405094  405094"
      ]
     },
     "execution_count": 12,
     "metadata": {},
     "output_type": "execute_result"
    }
   ],
   "source": [
    "f1.head()"
   ]
  }
 ],
 "metadata": {
  "kernelspec": {
   "display_name": "Python 3 (ipykernel)",
   "language": "python",
   "name": "python3"
  },
  "language_info": {
   "codemirror_mode": {
    "name": "ipython",
    "version": 3
   },
   "file_extension": ".py",
   "mimetype": "text/x-python",
   "name": "python",
   "nbconvert_exporter": "python",
   "pygments_lexer": "ipython3",
   "version": "3.9.5"
  }
 },
 "nbformat": 4,
 "nbformat_minor": 5
}
