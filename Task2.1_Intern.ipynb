{
 "cells": [
  {
   "cell_type": "code",
   "execution_count": 1,
   "id": "158e8369",
   "metadata": {
    "scrolled": true
   },
   "outputs": [],
   "source": [
    "import pandas as pd\n"
   ]
  },
  {
   "cell_type": "code",
   "execution_count": 2,
   "id": "bdbca15f",
   "metadata": {},
   "outputs": [],
   "source": [
    "f1 = pd.read_excel(r\"C:\\Users\\priya\\OneDrive\\Desktop\\Intern\\test_task1.2.xlsx\", sheet_name='Sheet1')\n",
    "f2 = pd.read_excel(r\"C:\\Users\\priya\\OneDrive\\Desktop\\Intern\\test_task1.2.xlsx\", sheet_name='Sheet2')"
   ]
  },
  {
   "cell_type": "code",
   "execution_count": 3,
   "id": "31078061",
   "metadata": {},
   "outputs": [
    {
     "data": {
      "text/plain": [
       "Index(['IMC', 'Name'], dtype='object')"
      ]
     },
     "execution_count": 3,
     "metadata": {},
     "output_type": "execute_result"
    }
   ],
   "source": [
    "f1.keys()"
   ]
  },
  {
   "cell_type": "code",
   "execution_count": 4,
   "id": "592252f4",
   "metadata": {},
   "outputs": [
    {
     "data": {
      "text/plain": [
       "Index(['IMC', 'Specialty', 'County1'], dtype='object')"
      ]
     },
     "execution_count": 4,
     "metadata": {},
     "output_type": "execute_result"
    }
   ],
   "source": [
    "f2.keys()"
   ]
  },
  {
   "cell_type": "code",
   "execution_count": 5,
   "id": "315e4d59",
   "metadata": {},
   "outputs": [],
   "source": [
    "f3 = f1[[\"IMC\", \n",
    "         \"Name\"]].merge(f2[[\"IMC\", \"Specialty\",\"County1\"]], \n",
    "                                     on = \"IMC\", \n",
    "                                     how = \"left\")\n",
    "  "
   ]
  },
  {
   "cell_type": "code",
   "execution_count": 6,
   "id": "c9e3b700",
   "metadata": {},
   "outputs": [],
   "source": [
    "f3.to_excel(\"Results.xlsx\", index = False)"
   ]
  },
  {
   "cell_type": "code",
   "execution_count": 7,
   "id": "ed7161dd",
   "metadata": {
    "scrolled": true
   },
   "outputs": [
    {
     "data": {
      "text/html": [
       "<div>\n",
       "<style scoped>\n",
       "    .dataframe tbody tr th:only-of-type {\n",
       "        vertical-align: middle;\n",
       "    }\n",
       "\n",
       "    .dataframe tbody tr th {\n",
       "        vertical-align: top;\n",
       "    }\n",
       "\n",
       "    .dataframe thead th {\n",
       "        text-align: right;\n",
       "    }\n",
       "</style>\n",
       "<table border=\"1\" class=\"dataframe\">\n",
       "  <thead>\n",
       "    <tr style=\"text-align: right;\">\n",
       "      <th></th>\n",
       "      <th>IMC</th>\n",
       "      <th>Name</th>\n",
       "      <th>Specialty</th>\n",
       "      <th>County1</th>\n",
       "    </tr>\n",
       "  </thead>\n",
       "  <tbody>\n",
       "    <tr>\n",
       "      <th>0</th>\n",
       "      <td>406467</td>\n",
       "      <td>Sinead Howley</td>\n",
       "      <td>Specialist Registration</td>\n",
       "      <td>Dublin 4</td>\n",
       "    </tr>\n",
       "    <tr>\n",
       "      <th>1</th>\n",
       "      <td>414652</td>\n",
       "      <td>Caroline Jennings</td>\n",
       "      <td>Trainee Specialist Registration</td>\n",
       "      <td>Dublin 9</td>\n",
       "    </tr>\n",
       "    <tr>\n",
       "      <th>2</th>\n",
       "      <td>371484</td>\n",
       "      <td>Micheal O'Maoil-Eoin</td>\n",
       "      <td>Trainee Specialist Registration</td>\n",
       "      <td>Louth</td>\n",
       "    </tr>\n",
       "    <tr>\n",
       "      <th>3</th>\n",
       "      <td>400731</td>\n",
       "      <td>Nicola Sweeney</td>\n",
       "      <td>Trainee Specialist Registration</td>\n",
       "      <td>Dublin 2</td>\n",
       "    </tr>\n",
       "    <tr>\n",
       "      <th>4</th>\n",
       "      <td>418651</td>\n",
       "      <td>Avril Coughlan</td>\n",
       "      <td>General Registration</td>\n",
       "      <td>Mayo</td>\n",
       "    </tr>\n",
       "    <tr>\n",
       "      <th>...</th>\n",
       "      <td>...</td>\n",
       "      <td>...</td>\n",
       "      <td>...</td>\n",
       "      <td>...</td>\n",
       "    </tr>\n",
       "    <tr>\n",
       "      <th>96</th>\n",
       "      <td>164</td>\n",
       "      <td>Mary Kennedy</td>\n",
       "      <td>General Registration</td>\n",
       "      <td>Clare</td>\n",
       "    </tr>\n",
       "    <tr>\n",
       "      <th>97</th>\n",
       "      <td>50577</td>\n",
       "      <td>Abbas Bakhtiari</td>\n",
       "      <td>General Registration</td>\n",
       "      <td>Dublin 7</td>\n",
       "    </tr>\n",
       "    <tr>\n",
       "      <th>98</th>\n",
       "      <td>405708</td>\n",
       "      <td>Abdelaziz Rosell Fernandez</td>\n",
       "      <td>General Registration</td>\n",
       "      <td>Carlow</td>\n",
       "    </tr>\n",
       "    <tr>\n",
       "      <th>99</th>\n",
       "      <td>23050</td>\n",
       "      <td>Abdul Abdul Aziz</td>\n",
       "      <td>General Registration</td>\n",
       "      <td>Dublin</td>\n",
       "    </tr>\n",
       "    <tr>\n",
       "      <th>100</th>\n",
       "      <td>13728</td>\n",
       "      <td>Abdul Bhutta</td>\n",
       "      <td>General Registration</td>\n",
       "      <td>Dublin 14</td>\n",
       "    </tr>\n",
       "  </tbody>\n",
       "</table>\n",
       "<p>101 rows × 4 columns</p>\n",
       "</div>"
      ],
      "text/plain": [
       "        IMC                        Name                        Specialty  \\\n",
       "0    406467               Sinead Howley          Specialist Registration   \n",
       "1    414652           Caroline Jennings  Trainee Specialist Registration   \n",
       "2    371484        Micheal O'Maoil-Eoin  Trainee Specialist Registration   \n",
       "3    400731              Nicola Sweeney  Trainee Specialist Registration   \n",
       "4    418651              Avril Coughlan             General Registration   \n",
       "..      ...                         ...                              ...   \n",
       "96      164                Mary Kennedy             General Registration   \n",
       "97    50577             Abbas Bakhtiari             General Registration   \n",
       "98   405708  Abdelaziz Rosell Fernandez             General Registration   \n",
       "99    23050            Abdul Abdul Aziz             General Registration   \n",
       "100   13728                Abdul Bhutta             General Registration   \n",
       "\n",
       "       County1  \n",
       "0     Dublin 4  \n",
       "1     Dublin 9  \n",
       "2        Louth  \n",
       "3     Dublin 2  \n",
       "4         Mayo  \n",
       "..         ...  \n",
       "96       Clare  \n",
       "97    Dublin 7  \n",
       "98      Carlow  \n",
       "99      Dublin  \n",
       "100  Dublin 14  \n",
       "\n",
       "[101 rows x 4 columns]"
      ]
     },
     "execution_count": 7,
     "metadata": {},
     "output_type": "execute_result"
    }
   ],
   "source": [
    "f3"
   ]
  },
  {
   "cell_type": "code",
   "execution_count": null,
   "id": "83430955",
   "metadata": {},
   "outputs": [],
   "source": []
  }
 ],
 "metadata": {
  "kernelspec": {
   "display_name": "Python 3 (ipykernel)",
   "language": "python",
   "name": "python3"
  },
  "language_info": {
   "codemirror_mode": {
    "name": "ipython",
    "version": 3
   },
   "file_extension": ".py",
   "mimetype": "text/x-python",
   "name": "python",
   "nbconvert_exporter": "python",
   "pygments_lexer": "ipython3",
   "version": "3.9.5"
  }
 },
 "nbformat": 4,
 "nbformat_minor": 5
}
